{
 "cells": [
  {
   "cell_type": "markdown",
   "id": "3b0c31a8-2831-4dfc-bc45-73d3084bef04",
   "metadata": {},
   "source": [
    "<h2>General Channel statistics<h2>"
   ]
  },
  {
   "cell_type": "markdown",
   "id": "1468c598-b14c-4091-a58b-1ec81187f181",
   "metadata": {},
   "source": [
    "## To customize depending on the user:\n",
    "path = \"C:\\\\Users\\\\john.doe\\\\Documents\\\\My_Directory\"\n",
    "\n",
    "My_API_KEY = 'my_api_key' # Credential requested via the Google developper platform "
   ]
  },
  {
   "cell_type": "raw",
   "id": "2195cde5-4144-448c-b2a8-90d51e337147",
   "metadata": {},
   "source": [
    "First, import some important libraries"
   ]
  },
  {
   "cell_type": "code",
   "execution_count": 2,
   "id": "5aa51b06-17c4-44f8-8dde-83219d13b57e",
   "metadata": {},
   "outputs": [],
   "source": [
    "# Import the libraries\n",
    "\n",
    "import os\n",
    "import csv\n",
    "import requests\n",
    "import itertools\n",
    "import pandas as pd\n",
    "import numpy as np \n",
    "import seaborn as sns\n",
    "import matplotlib.pyplot as plt\n",
    "\n",
    "from ggplot import *\n",
    "import wes\n",
    "\n",
    "from yt_stats import YTstats\n",
    "\n",
    "from collections import Counter\n",
    "\n",
    "from wordcloud import WordCloud\n",
    "\n",
    "import nltk\n",
    "from nltk.corpus import stopwords\n",
    "from spacy.lang.fr.stop_words import STOP_WORDS as fr_stop"
   ]
  },
  {
   "cell_type": "raw",
   "id": "5307b83b-d2c3-4705-aafa-8f7c8931e65d",
   "metadata": {},
   "source": [
    "Now that the libraries are loaded, we can start loading some of the channel statistics and the videos characteristics."
   ]
  },
  {
   "cell_type": "markdown",
   "id": "628983da-fe6b-41b0-9cec-6b791b810502",
   "metadata": {},
   "source": [
    "<h3>General statistics on the Channel and videos<h3>"
   ]
  },
  {
   "cell_type": "raw",
   "id": "ebf07159-eeaa-42c1-8d74-80e8ace07e77",
   "metadata": {},
   "source": [
    "To do so, we will be using the You Tube API 3 via developers.google.com.\n",
    "We request an API_KEY that will be used with the YouTube stats package to scrap the \n",
    "information we are searching for. "
   ]
  },
  {
   "cell_type": "code",
   "execution_count": 3,
   "id": "315b51da-957a-4ff4-a40a-40298537649f",
   "metadata": {},
   "outputs": [
    {
     "ename": "NameError",
     "evalue": "name 'My_API_KEY' is not defined",
     "output_type": "error",
     "traceback": [
      "\u001b[1;31m---------------------------------------------------------------------------\u001b[0m",
      "\u001b[1;31mNameError\u001b[0m                                 Traceback (most recent call last)",
      "\u001b[1;32mC:\\Users\\MAUD~1.GAL\\AppData\\Local\\Temp/ipykernel_2296/1539286780.py\u001b[0m in \u001b[0;36m<module>\u001b[1;34m\u001b[0m\n\u001b[0;32m      1\u001b[0m \u001b[1;31m# Read the stats ans videos\u001b[0m\u001b[1;33m\u001b[0m\u001b[1;33m\u001b[0m\u001b[1;33m\u001b[0m\u001b[0m\n\u001b[0;32m      2\u001b[0m \u001b[0mchannel_id\u001b[0m \u001b[1;33m=\u001b[0m \u001b[1;34m'my_channel_id'\u001b[0m\u001b[1;33m\u001b[0m\u001b[1;33m\u001b[0m\u001b[0m\n\u001b[1;32m----> 3\u001b[1;33m \u001b[0mAPI_KEY\u001b[0m \u001b[1;33m=\u001b[0m \u001b[0mMy_API_KEY\u001b[0m\u001b[1;33m\u001b[0m\u001b[1;33m\u001b[0m\u001b[0m\n\u001b[0m\u001b[0;32m      4\u001b[0m \u001b[0myt\u001b[0m \u001b[1;33m=\u001b[0m \u001b[0mYTstats\u001b[0m\u001b[1;33m(\u001b[0m\u001b[0mMy_API_KEY\u001b[0m\u001b[1;33m,\u001b[0m \u001b[0mchannel_id\u001b[0m\u001b[1;33m)\u001b[0m\u001b[1;33m\u001b[0m\u001b[1;33m\u001b[0m\u001b[0m\n\u001b[0;32m      5\u001b[0m \u001b[0myt\u001b[0m\u001b[1;33m.\u001b[0m\u001b[0mextract_all\u001b[0m\u001b[1;33m(\u001b[0m\u001b[1;33m)\u001b[0m\u001b[1;33m\u001b[0m\u001b[1;33m\u001b[0m\u001b[0m\n",
      "\u001b[1;31mNameError\u001b[0m: name 'My_API_KEY' is not defined"
     ]
    }
   ],
   "source": [
    "# Read the stats ans videos\n",
    "channel_id = 'my_channel_id'                \n",
    "API_KEY = My_API_KEY    \n",
    "yt = YTstats(My_API_KEY, channel_id)\n",
    "yt.extract_all()\n",
    "yt.dump() \n",
    "yt.channel_statistics\n",
    "yt.video_data"
   ]
  },
  {
   "cell_type": "raw",
   "id": "f0a3325c-710e-4973-b91c-cb3ca70fe46d",
   "metadata": {},
   "source": [
    "First, let's get some statistics."
   ]
  },
  {
   "cell_type": "code",
   "execution_count": null,
   "id": "18e333c5-89e0-42df-8cd4-cd2e39aa5688",
   "metadata": {},
   "outputs": [],
   "source": [
    "# Statistics\n",
    "yt.channel_statistics"
   ]
  },
  {
   "cell_type": "raw",
   "id": "3fa55ea6-4663-416e-8809-d9bd010ecec7",
   "metadata": {},
   "source": [
    "This will provide you with the number of the channel subscribers and views and number of videos\n",
    "\n",
    "Let's now store the video general information in a dataframe. "
   ]
  },
  {
   "cell_type": "code",
   "execution_count": null,
   "id": "01f31025-ad2a-4941-ad86-ddf67101c4b1",
   "metadata": {},
   "outputs": [],
   "source": [
    "# Extract the information ...\n",
    "data_items = yt.video_data.items()\n",
    "data_list = list(data_items)"
   ]
  },
  {
   "cell_type": "code",
   "execution_count": null,
   "id": "9b70da9c-e029-437a-b8be-cdee3dcd1e2a",
   "metadata": {},
   "outputs": [],
   "source": [
    "# ... in a dataframe\n",
    "df = pd.DataFrame(data_items)\n",
    "df = df[1].apply(pd.Series)\n",
    "df.head(5)"
   ]
  },
  {
   "cell_type": "raw",
   "id": "19386f43-eb32-46d9-9071-ce0f85d6ea5c",
   "metadata": {},
   "source": [
    "Let's select the videos of a given month, for instance January 2022.\n",
    "\n",
    "We thus restrict our dataframe to videos with a 'publishedAt' information in January."
   ]
  },
  {
   "cell_type": "code",
   "execution_count": null,
   "id": "68c72d25-ab89-4b23-9237-bc12e9e07679",
   "metadata": {},
   "outputs": [],
   "source": [
    "# Restrict to January\n",
    "df = df.loc[df['publishedAt'].str.contains('2022-01-')]\n",
    "df[['publishedAt','title','commentCount','categoryId', 'tags']].head(5)"
   ]
  },
  {
   "cell_type": "raw",
   "id": "852815d6-37bf-4f9b-aba7-3e2ed2cb71ce",
   "metadata": {},
   "source": [
    "We save the information in a csv file for future use."
   ]
  },
  {
   "cell_type": "code",
   "execution_count": null,
   "id": "5d1596f2-1f7e-404e-96a5-48ef0c09e885",
   "metadata": {},
   "outputs": [],
   "source": [
    "df.to_csv(path + 'VideosJanuary2022Details.csv', mode='w', index=True, sep=';', header=True)"
   ]
  },
  {
   "cell_type": "code",
   "execution_count": null,
   "id": "aa344323-8614-419e-9b27-3c65198b1c30",
   "metadata": {},
   "outputs": [],
   "source": [
    "#Number of videos\n",
    "len(df)"
   ]
  },
  {
   "cell_type": "raw",
   "id": "a93d2029-15e1-46b8-b08e-f251fd3cd802",
   "metadata": {},
   "source": [
    "XX videos were posted in January.\n",
    "\n",
    "We will now search for the most commented and viewed videos."
   ]
  },
  {
   "cell_type": "code",
   "execution_count": null,
   "id": "fdf23d12-5703-469f-a631-84ba2fb5a8d7",
   "metadata": {},
   "outputs": [],
   "source": [
    "# Search for the most commented video\n",
    "df['commentCount'] = pd.to_numeric(df['commentCount'])\n",
    "maxCount = max(df['commentCount'])\n",
    "maxCount"
   ]
  },
  {
   "cell_type": "code",
   "execution_count": null,
   "id": "bfd6953a-f63d-42a3-86c0-eb3e8e0d6b07",
   "metadata": {},
   "outputs": [],
   "source": [
    "# Sort by number of comments\n",
    "df = df.sort_values('commentCount', ascending=False)\n",
    "df[['publishedAt','title','commentCount','categoryId', 'tags']].head(10)"
   ]
  },
  {
   "cell_type": "raw",
   "id": "428439b6-41d3-450e-9552-94301b08e2f3",
   "metadata": {},
   "source": [
    "This will give you some statistics on the lost viewed video of that month\n",
    "\n",
    "What about the views now ?"
   ]
  },
  {
   "cell_type": "code",
   "execution_count": null,
   "id": "cfd7c0bb-69c4-49ee-abe9-8f4b7056501e",
   "metadata": {},
   "outputs": [],
   "source": [
    "# Search for the most viewed video\n",
    "df['viewCount'] = pd.to_numeric(df['viewCount'])\n",
    "maxCount = max(df['viewCount'])\n",
    "maxCount"
   ]
  },
  {
   "cell_type": "raw",
   "id": "826b8d2e-36d4-4370-93ff-3ffe05832b39",
   "metadata": {},
   "source": [
    "The video with the largest number of views has XXX views. \n",
    "\n",
    "What is the subject ?"
   ]
  },
  {
   "cell_type": "code",
   "execution_count": null,
   "id": "91f5e20f-aca5-4eb0-9236-c90e3a29c351",
   "metadata": {},
   "outputs": [],
   "source": [
    "df = df.sort_values('viewCount', ascending=False)\n",
    "df[['publishedAt','title','viewCount','categoryId', 'tags']].head(5)"
   ]
  },
  {
   "cell_type": "raw",
   "id": "7feebccc-0ef0-4c5e-bb75-1547a8e60bdb",
   "metadata": {},
   "source": [
    " "
   ]
  },
  {
   "cell_type": "markdown",
   "id": "b874a765-72c7-4ece-be11-975b82d4f3a9",
   "metadata": {},
   "source": [
    "<h3>Commented versus Liked diagram<h3>"
   ]
  },
  {
   "cell_type": "raw",
   "id": "4ccf287c-c87d-4018-b34f-16cf1a453c2d",
   "metadata": {},
   "source": [
    "Let's recharge the stats file containing informations on that month videos in order to study how comments, likes and views correlate."
   ]
  },
  {
   "cell_type": "code",
   "execution_count": null,
   "id": "d4142148-bae4-4412-8c45-d63da73e0277",
   "metadata": {},
   "outputs": [],
   "source": [
    "df = pd.read_csv(path + 'VideosJanuary2022Details.csv', sep=\";\")"
   ]
  },
  {
   "cell_type": "raw",
   "id": "befe5d9b-d54a-4e58-8d7f-b0d736ffd670",
   "metadata": {},
   "source": [
    "The comment, like and view counts are saved in a dataframe along with the Tags fields \n",
    "that will be used later. \n",
    "\n",
    "We also store the categorieId information (categories following YouTube definition reminded below).\n",
    "\n",
    "The 'Tags' fields are slightly corrected and re-arranged before being studied."
   ]
  },
  {
   "cell_type": "code",
   "execution_count": null,
   "id": "c58da60a-0505-4bf9-98dd-1c97f68f6bd7",
   "metadata": {},
   "outputs": [],
   "source": [
    "d = {'Comments': df['commentCount'], 'Views': df['viewCount'], 'Likes': df['likeCount'], 'Category': df['categoryId'], 'Tags': df['tags']}\n",
    "Stats = pd.DataFrame(data=d)\n",
    "\n",
    "Stats['Category'] = Stats['Category'].astype(str)\n",
    "Stats['Tags'] = Stats['Tags'].astype(str)\n",
    "Stats['Tags'] = Stats['Tags'].map(lambda x: x.replace('[',''))\n",
    "Stats['Tags'] = Stats['Tags'].map(lambda x: x.replace(']',''))\n",
    "Stats.head(5)"
   ]
  },
  {
   "cell_type": "raw",
   "id": "707fe177-6f09-4137-9d21-8bbaab58474a",
   "metadata": {},
   "source": [
    "How many categories do we have?"
   ]
  },
  {
   "cell_type": "code",
   "execution_count": null,
   "id": "34946cf1-70d2-447a-87b1-bbb7e2e289e3",
   "metadata": {},
   "outputs": [],
   "source": [
    "cat = np.unique(Stats['Category'])\n",
    "cat"
   ]
  },
  {
   "cell_type": "raw",
   "id": "ff4cbe1b-9392-47e7-a691-402438945e9a",
   "metadata": {},
   "source": [
    "Let's plot comments versus likes color-coded with the category.\n",
    "The size of the points refers to the number of views."
   ]
  },
  {
   "cell_type": "code",
   "execution_count": null,
   "id": "f6651630-f22c-448e-a08a-dc3ccde1e979",
   "metadata": {},
   "outputs": [],
   "source": [
    "%%capture --no-display\n",
    "\n",
    "ggplot(aes(x = 'Comments', y = 'Likes', size='Views', color='Category'), data = Stats) + \\\n",
    "    geom_point(alpha = 1) + \\\n",
    "    scale_x_log() + \\\n",
    "    scale_y_log() "
   ]
  },
  {
   "cell_type": "raw",
   "id": "9dbd87a5-b433-4d60-a3a1-e32ad5da1d13",
   "metadata": {},
   "source": [
    "FYI for YT categoryId\n",
    "1 - Film & Animation\n",
    "2 - Autos & Vehicles\n",
    "10 - Music\n",
    "15 - Pets & Animals\n",
    "17 - Sports\n",
    "19 - Travel & Events\n",
    "20 - Gaming\n",
    "22 - People & Blogs\n",
    "23 - Comedy\n",
    "24 - Entertainment\n",
    "25 - News & Politics\n",
    "26 - Howto & Style\n",
    "27 - Education\n",
    "28 - Science & Technology\n",
    "29 - Nonprofits & Activism"
   ]
  },
  {
   "cell_type": "markdown",
   "id": "0d8ab1c9-5284-4f0d-b61d-b2c03ea3c1e8",
   "metadata": {},
   "source": [
    "<h3> Tags word cloud<h3>"
   ]
  },
  {
   "cell_type": "raw",
   "id": "4a03785a-3fbb-40f2-bdca-6c15ccfd1061",
   "metadata": {},
   "source": [
    "We now want to use the tags field. We first start with merging all the tags in a single list and pre-treat the list."
   ]
  },
  {
   "cell_type": "code",
   "execution_count": null,
   "id": "4a29065c-e59b-4d2e-99fd-84b1b6744f83",
   "metadata": {},
   "outputs": [],
   "source": [
    "Tags = Stats['Tags']\n",
    "Tags = Tags.tolist()\n",
    "Tags = list(itertools.chain.from_iterable([x.replace(\"'\",\"\").split(',') for x in Tags]))\n",
    "Tags = list([x.lstrip() for x in Tags])\n",
    "Tags = [x for x in Tags if str(x) != 'nan']\n",
    "Tags[0:10]"
   ]
  },
  {
   "cell_type": "raw",
   "id": "bf83eb55-727b-43b6-a140-f4a6e0040c74",
   "metadata": {},
   "source": [
    "We use a lemmatization tool in order to remove inflectional endings from the tags, standardize verbs etc, \n",
    "e.g. ('documentaires' --> 'documentaire', 'travailler --> travaillé)."
   ]
  },
  {
   "cell_type": "code",
   "execution_count": null,
   "id": "bfe43eff-bf3a-4f87-ab51-1e184d39d295",
   "metadata": {},
   "outputs": [],
   "source": [
    "#!pip install git+https://github.com/ClaudeCoulombe/FrenchLefffLemmatizer.git\n",
    "import nltk\n",
    "#nltk.download('wordnet')\n",
    "from nltk.stem import WordNetLemmatizer\n",
    "from french_lefff_lemmatizer.french_lefff_lemmatizer import FrenchLefffLemmatizer\n",
    "\n",
    "lemmatizer = FrenchLefffLemmatizer()\n",
    "Tags_lemm = []\n",
    "for t_ in Tags:\n",
    "    Tags_lemm.append(lemmatizer.lemmatize(str(t_)))\n",
    "Tags_lemm[0:10]    "
   ]
  },
  {
   "cell_type": "raw",
   "id": "0336e48a-2eda-42e6-99d6-6348fc6b1b7c",
   "metadata": {},
   "source": [
    "Let's do a word cloud with these video tags.\n",
    "\n",
    "We should avoid stop words('de','ces','se').\n",
    "We use stopwords in spacy to thus first remove these words from the list."
   ]
  },
  {
   "cell_type": "code",
   "execution_count": null,
   "id": "94af7646-3a4e-423e-8566-ae4272f06a4f",
   "metadata": {},
   "outputs": [],
   "source": [
    "Tags_lemm_filtered = [word for word in Tags_lemm if word not in fr_stop]"
   ]
  },
  {
   "cell_type": "code",
   "execution_count": null,
   "id": "4e58ae90-81c6-4cf0-a6be-7da438ee4209",
   "metadata": {},
   "outputs": [],
   "source": [
    "wordcloud = WordCloud(background_color = 'white', max_font_size=50).generate(str(Tags_lemm))\n",
    "plt.figure()\n",
    "plt.imshow(wordcloud)#, interpolation=\"bilinear\")\n",
    "plt.axis(\"off\")\n",
    "plt.show()"
   ]
  },
  {
   "cell_type": "code",
   "execution_count": null,
   "id": "b236e608-b6f7-4cdc-aad3-62f71e9b1bdd",
   "metadata": {},
   "outputs": [],
   "source": [
    "Counter(Tags_lemm_filtered).most_common()[0:15]"
   ]
  },
  {
   "cell_type": "raw",
   "id": "3f700359-7107-4a2f-ba14-08eadf78c331",
   "metadata": {},
   "source": [
    "This will visually show you what the videos of the month you selected talk about."
   ]
  },
  {
   "cell_type": "markdown",
   "id": "dcd8a85c-bada-4050-b05a-7a017c79ffc8",
   "metadata": {},
   "source": [
    "<h3> Save the YouTube video IDs <h3>"
   ]
  },
  {
   "cell_type": "code",
   "execution_count": null,
   "id": "3e9c851b-6606-4ee7-b5d6-ded7f3c2a883",
   "metadata": {},
   "outputs": [],
   "source": [
    "import json\n",
    "with open(path + 'my_file.json', 'r') as f:\n",
    "  data = json.load(f)"
   ]
  },
  {
   "cell_type": "code",
   "execution_count": null,
   "id": "777b22fd-c168-4e43-ab1f-794221746242",
   "metadata": {},
   "outputs": [],
   "source": [
    "templist = data[channel_id]['video_data']\n",
    "tempdf = pd.DataFrame.from_dict(templist, orient='index')\n",
    "tempdf = tempdf.loc[tempdf['publishedAt'].str.contains('2022-01-')]\n",
    "videoIds = list(tempdf.index)\n",
    "videoIds[0:5]"
   ]
  },
  {
   "cell_type": "code",
   "execution_count": null,
   "id": "1025272d-9ac4-4081-bad1-11d68a4d0097",
   "metadata": {},
   "outputs": [],
   "source": [
    "df = pd.DataFrame (videoIds, columns = ['videoIds'])\n",
    "df.to_csv(path + 'VideoJanuary2022Ids.csv', mode='w', index=False, sep=';', header=True)"
   ]
  }
 ],
 "metadata": {
  "kernelspec": {
   "display_name": "Python 3 (ipykernel)",
   "language": "python",
   "name": "python3"
  },
  "language_info": {
   "codemirror_mode": {
    "name": "ipython",
    "version": 3
   },
   "file_extension": ".py",
   "mimetype": "text/x-python",
   "name": "python",
   "nbconvert_exporter": "python",
   "pygments_lexer": "ipython3",
   "version": "3.7.2"
  }
 },
 "nbformat": 4,
 "nbformat_minor": 5
}
